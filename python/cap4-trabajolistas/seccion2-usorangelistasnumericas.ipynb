{
 "cells": [
  {
   "cell_type": "code",
   "execution_count": 20,
   "id": "edd0d61d",
   "metadata": {},
   "outputs": [
    {
     "name": "stdout",
     "output_type": "stream",
     "text": [
      "0\n",
      "1\n",
      "2\n",
      "3\n",
      "4\n",
      "5\n",
      "6\n",
      "7\n",
      "8\n",
      "9\n",
      "10\n",
      "11\n",
      "12\n",
      "13\n",
      "14\n",
      "15\n",
      "16\n",
      "17\n",
      "18\n",
      "19\n",
      "20\n",
      "21\n",
      "22\n",
      "23\n",
      "24\n",
      "25\n",
      "26\n",
      "27\n",
      "28\n",
      "29\n",
      "30\n",
      "31\n",
      "32\n",
      "33\n",
      "34\n",
      "35\n",
      "36\n",
      "37\n",
      "38\n",
      "39\n",
      "40\n",
      "41\n",
      "42\n",
      "43\n",
      "44\n",
      "45\n",
      "46\n",
      "47\n",
      "48\n",
      "49\n",
      "50\n",
      "51\n",
      "52\n",
      "53\n",
      "54\n",
      "55\n",
      "56\n",
      "57\n",
      "58\n",
      "59\n",
      "60\n",
      "61\n",
      "62\n",
      "63\n",
      "64\n",
      "65\n",
      "66\n",
      "67\n",
      "68\n",
      "69\n",
      "70\n",
      "71\n",
      "72\n",
      "73\n",
      "74\n",
      "75\n",
      "76\n",
      "77\n",
      "78\n",
      "79\n",
      "80\n",
      "81\n",
      "82\n",
      "83\n",
      "84\n",
      "85\n",
      "86\n",
      "87\n",
      "88\n",
      "89\n",
      "90\n",
      "91\n",
      "92\n",
      "93\n",
      "94\n",
      "95\n",
      "96\n",
      "97\n",
      "98\n",
      "99\n"
     ]
    }
   ],
   "source": [
    "# Usa range() para crear una lista de 1 a 100\n",
    "for i in range(100):\n",
    "    print(i)"
   ]
  },
  {
   "cell_type": "code",
   "execution_count": 22,
   "id": "977616a9",
   "metadata": {},
   "outputs": [
    {
     "name": "stdout",
     "output_type": "stream",
     "text": [
      "100\n",
      "102\n",
      "104\n",
      "106\n",
      "108\n",
      "110\n",
      "112\n",
      "114\n",
      "116\n",
      "118\n",
      "120\n",
      "122\n",
      "124\n",
      "126\n",
      "128\n",
      "130\n",
      "132\n",
      "134\n",
      "136\n",
      "138\n",
      "140\n",
      "142\n",
      "144\n",
      "146\n",
      "148\n",
      "150\n",
      "152\n",
      "154\n",
      "156\n",
      "158\n",
      "160\n",
      "162\n",
      "164\n",
      "166\n",
      "168\n",
      "170\n",
      "172\n",
      "174\n",
      "176\n",
      "178\n",
      "180\n",
      "182\n",
      "184\n",
      "186\n",
      "188\n",
      "190\n",
      "192\n",
      "194\n",
      "196\n",
      "198\n",
      "200\n"
     ]
    }
   ],
   "source": [
    "# Crea una lista con los números del 100 al 200 de 2 en 2\n",
    "for i in range(100,201,2):\n",
    "    print(i)"
   ]
  },
  {
   "cell_type": "code",
   "execution_count": 25,
   "id": "05063726",
   "metadata": {},
   "outputs": [
    {
     "name": "stdout",
     "output_type": "stream",
     "text": [
      "3\n",
      "6\n",
      "9\n",
      "12\n",
      "15\n",
      "18\n",
      "21\n",
      "24\n",
      "27\n",
      "30\n",
      "33\n",
      "36\n",
      "39\n",
      "42\n",
      "45\n",
      "48\n",
      "51\n",
      "54\n",
      "57\n",
      "60\n",
      "63\n",
      "66\n",
      "69\n",
      "72\n",
      "75\n",
      "78\n",
      "81\n",
      "84\n",
      "87\n"
     ]
    }
   ],
   "source": [
    "# Crea una lista con los múltiplos de 3 hasta el 90\n",
    "for i in range(1,90):\n",
    "    if i%3==0:\n",
    "        print(i)"
   ]
  },
  {
   "cell_type": "code",
   "execution_count": 26,
   "id": "c730adbd",
   "metadata": {},
   "outputs": [
    {
     "name": "stdout",
     "output_type": "stream",
     "text": [
      "5050\n"
     ]
    }
   ],
   "source": [
    "# Imprime la suma de todos los númneros del 1 al 100 usando sum(range(...))\n",
    "print(sum(range(1,101)))"
   ]
  },
  {
   "cell_type": "code",
   "execution_count": 5,
   "id": "8ab7d833",
   "metadata": {},
   "outputs": [],
   "source": [
    "# Usa un bucle para imprimir la tabla del 7 (del 7x1 al 7x10)"
   ]
  },
  {
   "cell_type": "code",
   "execution_count": 6,
   "id": "0bafcb8c",
   "metadata": {},
   "outputs": [],
   "source": [
    "# Crea una lista para los primeros 20 cuadrados"
   ]
  },
  {
   "cell_type": "code",
   "execution_count": 7,
   "id": "a1c72fad",
   "metadata": {},
   "outputs": [],
   "source": [
    "# Crea una lista de los cubos del 1 al 10"
   ]
  },
  {
   "cell_type": "code",
   "execution_count": 8,
   "id": "cbc1c5d1",
   "metadata": {},
   "outputs": [],
   "source": [
    "# Crea una lista con los primeros 15 múltiplos de 5"
   ]
  },
  {
   "cell_type": "code",
   "execution_count": null,
   "id": "4407eae0",
   "metadata": {},
   "outputs": [],
   "source": [
    "# Crea una lista con los números pares del 0 al 50"
   ]
  },
  {
   "cell_type": "code",
   "execution_count": 10,
   "id": "d3f408af",
   "metadata": {},
   "outputs": [],
   "source": [
    "# Usa range() con list() para crear un alista de números descendente"
   ]
  },
  {
   "cell_type": "code",
   "execution_count": 11,
   "id": "2246234c",
   "metadata": {},
   "outputs": [],
   "source": [
    "# Imprime el máximo, mínimo y la suma de una lista generada ocn range()"
   ]
  },
  {
   "cell_type": "code",
   "execution_count": 12,
   "id": "d955394b",
   "metadata": {},
   "outputs": [],
   "source": [
    "# Usa una comprensión de listas para obtener los cuadrados del 1 al 20"
   ]
  },
  {
   "cell_type": "code",
   "execution_count": 13,
   "id": "03333b4a",
   "metadata": {},
   "outputs": [],
   "source": [
    "# Usa range() para generar un alista con los años del 2000 al 2025"
   ]
  },
  {
   "cell_type": "code",
   "execution_count": 14,
   "id": "d15812f2",
   "metadata": {},
   "outputs": [],
   "source": [
    "# Imprime los múltiplos de 10 del 10 al 1000"
   ]
  },
  {
   "cell_type": "code",
   "execution_count": 15,
   "id": "cf122fd2",
   "metadata": {},
   "outputs": [],
   "source": [
    "# Crea una lista con 50 valores aleatorios entre 1 y 100 (usa random.randint())"
   ]
  },
  {
   "cell_type": "code",
   "execution_count": 16,
   "id": "36e051d8",
   "metadata": {},
   "outputs": [],
   "source": [
    "# Usa range() para crear una lista de letras (ord y chr)"
   ]
  },
  {
   "cell_type": "code",
   "execution_count": 17,
   "id": "5df773c7",
   "metadata": {},
   "outputs": [],
   "source": [
    "# Crea una lista de 100 números y encuentra cuántos son pares"
   ]
  },
  {
   "cell_type": "code",
   "execution_count": 18,
   "id": "34df51c0",
   "metadata": {},
   "outputs": [],
   "source": [
    "# Crea una lista con los primeros 100 divisibles entre 3 y 7 a la vez"
   ]
  },
  {
   "cell_type": "code",
   "execution_count": 19,
   "id": "67bc6efa",
   "metadata": {},
   "outputs": [],
   "source": [
    "# Crea una lista con los múltiplos de 13 menores que 500"
   ]
  },
  {
   "cell_type": "code",
   "execution_count": null,
   "id": "8caee316",
   "metadata": {},
   "outputs": [],
   "source": [
    "# Usa una comprensión de lista para convertir los valores de otra lita en booleanos (mayores a 50 o no)"
   ]
  }
 ],
 "metadata": {
  "kernelspec": {
   "display_name": "devs3-8",
   "language": "python",
   "name": "python3"
  },
  "language_info": {
   "codemirror_mode": {
    "name": "ipython",
    "version": 3
   },
   "file_extension": ".py",
   "mimetype": "text/x-python",
   "name": "python",
   "nbconvert_exporter": "python",
   "pygments_lexer": "ipython3",
   "version": "3.8.20"
  }
 },
 "nbformat": 4,
 "nbformat_minor": 5
}
