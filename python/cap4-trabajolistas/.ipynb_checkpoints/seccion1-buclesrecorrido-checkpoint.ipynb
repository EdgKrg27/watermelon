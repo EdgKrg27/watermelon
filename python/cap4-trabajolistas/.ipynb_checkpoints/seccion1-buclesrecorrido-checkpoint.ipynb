{
 "cells": [
  {
   "cell_type": "code",
   "execution_count": 3,
   "id": "772fa424",
   "metadata": {},
   "outputs": [
    {
     "name": "stdout",
     "output_type": "stream",
     "text": [
      "manzana\n",
      "banana\n",
      "naranja\n"
     ]
    }
   ],
   "source": [
    "# Imprime cada elemento de la lista frutas = manzana, banana, naranja\n",
    "frutas = [\"manzana\", \"banana\", \"naranja\"]\n",
    "for i in frutas:\n",
    "    print(i)"
   ]
  },
  {
   "cell_type": "code",
   "execution_count": 5,
   "id": "133eb8c9",
   "metadata": {},
   "outputs": [
    {
     "name": "stdout",
     "output_type": "stream",
     "text": [
      "MEXICO\n",
      "CANADA\n",
      "ALEMANIA\n",
      "FRANCIA\n",
      "CHINA\n"
     ]
    }
   ],
   "source": [
    "# Crea una lista con 5 países y usa un for para imprimirlos en mayúsculas\n",
    "paises = [\"mexico\",  \"canada\", \"alemania\", \"francia\", \"china\"]\n",
    "for i in paises:\n",
    "    print(i.upper())"
   ]
  },
  {
   "cell_type": "code",
   "execution_count": 7,
   "id": "60e45453",
   "metadata": {},
   "outputs": [
    {
     "name": "stdout",
     "output_type": "stream",
     "text": [
      "1\n",
      "2\n",
      "3\n",
      "4\n",
      "5\n",
      "6\n",
      "7\n",
      "8\n",
      "9\n",
      "10\n"
     ]
    }
   ],
   "source": [
    "# Usa un for para imprimir los número del 1 al 10\n",
    "for i in range(10):\n",
    "    print(i+1)"
   ]
  },
  {
   "cell_type": "code",
   "execution_count": 2,
   "id": "08d6235d",
   "metadata": {},
   "outputs": [
    {
     "name": "stdout",
     "output_type": "stream",
     "text": [
      "30.2\n"
     ]
    }
   ],
   "source": [
    "# Dada una lista de temperaturas, imprime solo las que sean mayores a 30\n",
    "temperaturas = [22.5, 18.0, 25.3, 16.7, 30.2, 19.8]\n",
    "for t in temperaturas:\n",
    "    if t > 30.0:\n",
    "        print(t)\n",
    "    "
   ]
  },
  {
   "cell_type": "code",
   "execution_count": 4,
   "id": "623a1b54",
   "metadata": {},
   "outputs": [
    {
     "name": "stdout",
     "output_type": "stream",
     "text": [
      "Hola mi estimado Ana\n",
      "Hola mi estimado Carlos\n",
      "Hola mi estimado María\n",
      "Hola mi estimado Javier\n",
      "Hola mi estimado Lucía\n",
      "Hola mi estimado Pedro\n",
      "Hola mi estimado Sofía\n",
      "Hola mi estimado Miguel\n",
      "Hola mi estimado Elena\n",
      "Hola mi estimado David\n"
     ]
    }
   ],
   "source": [
    "# Imprime un mensaje personalizado para cada nombre en la lista nombres\n",
    "nombres = [\n",
    "    \"Ana\", \n",
    "    \"Carlos\", \n",
    "    \"María\", \n",
    "    \"Javier\", \n",
    "    \"Lucía\", \n",
    "    \"Pedro\", \n",
    "    \"Sofía\", \n",
    "    \"Miguel\", \n",
    "    \"Elena\", \n",
    "    \"David\"\n",
    "]\n",
    "for i in nombres:\n",
    "    print(f\"Hola mi estimado {i}\")"
   ]
  },
  {
   "cell_type": "code",
   "execution_count": 5,
   "id": "925f8c86",
   "metadata": {},
   "outputs": [
    {
     "name": "stdout",
     "output_type": "stream",
     "text": [
      "Adoro las albondigas\n",
      "Adoro las hamburguesas\n",
      "Adoro las milanesas\n"
     ]
    }
   ],
   "source": [
    "# Crea una lista con tus tres comidas favoritas e imprime una frase por cada una\n",
    "comidas = [\"albondigas\", \"hamburguesas\", \"milanesas\"]\n",
    "for i in comidas:\n",
    "    print(f\"Adoro las {i}\")"
   ]
  },
  {
   "cell_type": "code",
   "execution_count": 7,
   "id": "69d3517c",
   "metadata": {},
   "outputs": [
    {
     "name": "stdout",
     "output_type": "stream",
     "text": [
      "1\n",
      "4\n",
      "9\n",
      "16\n",
      "25\n",
      "36\n",
      "49\n",
      "64\n",
      "81\n",
      "100\n"
     ]
    }
   ],
   "source": [
    "# Haz un bucle que imprima el cuadrado de cada número del 1 al 10\n",
    "numeros = [1,2,3,4,5,6,7,8,9,10]\n",
    "for i in numeros:\n",
    "    print(i**2)"
   ]
  },
  {
   "cell_type": "code",
   "execution_count": null,
   "id": "24946d59",
   "metadata": {},
   "outputs": [],
   "source": [
    "# Imrime cuántas letras tiene cada palabra en una lista "
   ]
  },
  {
   "cell_type": "code",
   "execution_count": 9,
   "id": "4bed3ffe",
   "metadata": {},
   "outputs": [],
   "source": [
    "# Imprime los elementos de una lista de animales en orden inverso"
   ]
  },
  {
   "cell_type": "code",
   "execution_count": 10,
   "id": "50944108",
   "metadata": {},
   "outputs": [],
   "source": [
    "# Imprime los números impares del 1 al 20 usando un bucle for"
   ]
  },
  {
   "cell_type": "code",
   "execution_count": 11,
   "id": "1b1fb67e",
   "metadata": {},
   "outputs": [],
   "source": [
    "# Recorre una lista de 10 números y calcula su suma manualmente (sin sum())"
   ]
  },
  {
   "cell_type": "code",
   "execution_count": 12,
   "id": "ec76fb11",
   "metadata": {},
   "outputs": [],
   "source": [
    "# Imprime las posiciones de cada elemento con enumerate()"
   ]
  },
  {
   "cell_type": "code",
   "execution_count": 13,
   "id": "4bce45a1",
   "metadata": {},
   "outputs": [],
   "source": [
    "# Dada una lista de strings, imprime los que tengan más de 5 caracteres"
   ]
  },
  {
   "cell_type": "code",
   "execution_count": 14,
   "id": "3268a582",
   "metadata": {},
   "outputs": [],
   "source": [
    "# Dada una lista de precios, imprime solo los que sean menores de 100"
   ]
  },
  {
   "cell_type": "code",
   "execution_count": 15,
   "id": "e8cb8f58",
   "metadata": {},
   "outputs": [],
   "source": [
    "# Crea una lista de notras (números) y dile al usuario si ha aprobado cada una"
   ]
  },
  {
   "cell_type": "code",
   "execution_count": 16,
   "id": "a0cbf3b8",
   "metadata": {},
   "outputs": [],
   "source": [
    "# Pide al usuario 5 nombres y guárdalos en una lista, luego imprímelos"
   ]
  },
  {
   "cell_type": "code",
   "execution_count": 17,
   "id": "aab0a3f8",
   "metadata": {},
   "outputs": [],
   "source": [
    "# Usa un for para imprimir cada carácter de un string"
   ]
  },
  {
   "cell_type": "code",
   "execution_count": 18,
   "id": "496a4521",
   "metadata": {},
   "outputs": [],
   "source": [
    "# Imprime los elementos de una lista sin usar un bucle for (usa while)"
   ]
  },
  {
   "cell_type": "code",
   "execution_count": 19,
   "id": "b21e26a0",
   "metadata": {},
   "outputs": [],
   "source": [
    "# Combina dos listas de nombres e imprime cada par (usa zip())"
   ]
  },
  {
   "cell_type": "code",
   "execution_count": null,
   "id": "922c5f56",
   "metadata": {},
   "outputs": [],
   "source": [
    "# Esccribe un bucle que imprima cuántas vocales tiene cada palabra en una lista"
   ]
  }
 ],
 "metadata": {
  "kernelspec": {
   "display_name": "Python 3 (ipykernel)",
   "language": "python",
   "name": "python3"
  },
  "language_info": {
   "codemirror_mode": {
    "name": "ipython",
    "version": 3
   },
   "file_extension": ".py",
   "mimetype": "text/x-python",
   "name": "python",
   "nbconvert_exporter": "python",
   "pygments_lexer": "ipython3",
   "version": "3.8.20"
  }
 },
 "nbformat": 4,
 "nbformat_minor": 5
}
