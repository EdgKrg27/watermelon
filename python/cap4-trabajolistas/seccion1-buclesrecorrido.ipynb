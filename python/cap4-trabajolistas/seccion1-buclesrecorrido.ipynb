{
 "cells": [
  {
   "cell_type": "code",
   "execution_count": null,
   "id": "772fa424",
   "metadata": {},
   "outputs": [],
   "source": [
    "# Imprime cada elemento de la lista frutas = manzana, banana, naranja\n",
    "frutas = [\"manzana\", \"banana\", \"naranja\"]\n",
    "for i in frutas:\n",
    "    print(i)"
   ]
  },
  {
   "cell_type": "code",
   "execution_count": null,
   "id": "133eb8c9",
   "metadata": {},
   "outputs": [],
   "source": [
    "# Crea una lista con 5 países y usa un for para imprimirlos en mayúsculas\n",
    "paises = [\"mexico\",  \"canada\", \"alemania\", \"francia\", \"china\"]\n",
    "for i in paises:\n",
    "    print(i.upper())"
   ]
  },
  {
   "cell_type": "code",
   "execution_count": null,
   "id": "60e45453",
   "metadata": {},
   "outputs": [],
   "source": [
    "# Usa un for para imprimir los número del 1 al 10\n",
    "for i in range(10):\n",
    "    print(i+1)"
   ]
  },
  {
   "cell_type": "code",
   "execution_count": null,
   "id": "08d6235d",
   "metadata": {},
   "outputs": [],
   "source": [
    "# Dada una lista de temperaturas, imprime solo las que sean mayores a 30\n",
    "temperaturas = [22.5, 18.0, 25.3, 16.7, 30.2, 19.8]\n",
    "for t in temperaturas:\n",
    "    if t > 30.0:\n",
    "        print(t)\n",
    "    "
   ]
  },
  {
   "cell_type": "code",
   "execution_count": null,
   "id": "623a1b54",
   "metadata": {},
   "outputs": [],
   "source": [
    "# Imprime un mensaje personalizado para cada nombre en la lista nombres\n",
    "nombres = [\n",
    "    \"Ana\", \n",
    "    \"Carlos\", \n",
    "    \"María\", \n",
    "    \"Javier\", \n",
    "    \"Lucía\", \n",
    "    \"Pedro\", \n",
    "    \"Sofía\", \n",
    "    \"Miguel\", \n",
    "    \"Elena\", \n",
    "    \"David\"\n",
    "]\n",
    "for i in nombres:\n",
    "    print(f\"Hola mi estimado {i}\")"
   ]
  },
  {
   "cell_type": "code",
   "execution_count": null,
   "id": "925f8c86",
   "metadata": {},
   "outputs": [],
   "source": [
    "# Crea una lista con tus tres comidas favoritas e imprime una frase por cada una\n",
    "comidas = [\"albondigas\", \"hamburguesas\", \"milanesas\"]\n",
    "for i in comidas:\n",
    "    print(f\"Adoro las {i}\")"
   ]
  },
  {
   "cell_type": "code",
   "execution_count": null,
   "id": "69d3517c",
   "metadata": {},
   "outputs": [],
   "source": [
    "# Haz un bucle que imprima el cuadrado de cada número del 1 al 10\n",
    "numeros = [1, 2, 3, 4, 5, 6, 7, 8, 9, 10]\n",
    "for i in numeros:\n",
    "    print(i**2)"
   ]
  },
  {
   "cell_type": "code",
   "execution_count": null,
   "id": "24946d59",
   "metadata": {},
   "outputs": [],
   "source": [
    "# Imrime cuántas letras tiene cada palabra en una lista\n",
    "nombres = [\n",
    "    \"Ana\",\n",
    "    \"Carlos\",\n",
    "    \"María\",\n",
    "    \"Javier\",\n",
    "    \"Lucía\",\n",
    "    \"Pedro\",\n",
    "    \"Sofía\",\n",
    "    \"Miguel\",\n",
    "    \"Elena\",\n",
    "    \"David\"\n",
    "]\n",
    "\n",
    "for i in nombres:\n",
    "    print(f\"La palabra {i} tiene: {len(i)}\")"
   ]
  },
  {
   "cell_type": "code",
   "execution_count": null,
   "id": "4bed3ffe",
   "metadata": {},
   "outputs": [],
   "source": [
    "# Imprime los elementos de una lista de animales en orden inverso\n",
    "nombres = [\n",
    "    \"Ana\",\n",
    "    \"Carlos\",\n",
    "    \"María\",\n",
    "    \"Javier\",\n",
    "    \"Lucía\",\n",
    "    \"Pedro\",\n",
    "    \"Sofía\",\n",
    "    \"Miguel\",\n",
    "    \"Elena\",\n",
    "    \"David\"\n",
    "]\n",
    "\n",
    "nombres.reverse()\n",
    "print(nombres)"
   ]
  },
  {
   "cell_type": "code",
   "execution_count": null,
   "id": "50944108",
   "metadata": {},
   "outputs": [],
   "source": [
    "# Imprime los números impares del 1 al 20 usando un bucle for\n",
    "numeros = [1,2,3,4,5,6,7,8,9,10,11,12,13,14,15,16,17,18,19,20]\n",
    "for i in numeros:\n",
    "    if i%2 != 0:\n",
    "        print(i)"
   ]
  },
  {
   "cell_type": "code",
   "execution_count": null,
   "id": "1b1fb67e",
   "metadata": {},
   "outputs": [],
   "source": [
    "# Recorre una lista de 10 números y calcula su suma manualmente (sin sum())\n",
    "numeros = [1, 2, 3, 4, 5, 6, 7, 8, 9, 10]\n",
    "suma = 0\n",
    "for i in numeros:\n",
    "    suma += i\n",
    "print(suma)"
   ]
  },
  {
   "cell_type": "code",
   "execution_count": null,
   "id": "ec76fb11",
   "metadata": {},
   "outputs": [],
   "source": [
    "# Imprime las posiciones de cada elemento con enumerate()\n",
    "numeros = [1, 2, 3, 4, 5, 6, 7, 8, 9, 10]\n",
    "for i in enumerate(numeros):\n",
    "    print(i)"
   ]
  },
  {
   "cell_type": "code",
   "execution_count": null,
   "id": "4bce45a1",
   "metadata": {},
   "outputs": [],
   "source": [
    "# Dada una lista de strings, imprime los que tengan más de 5 caracteres\n",
    "animales = [\n",
    "    \"Perro\",\n",
    "    \"Gato\",\n",
    "    \"Elefante\",\n",
    "    \"León\",\n",
    "    \"Tigre\",\n",
    "    \"Jirafa\",\n",
    "    \"Mono\",\n",
    "    \"Cocodrilo\",\n",
    "    \"Serpiente\",\n",
    "    \"Águila\"\n",
    "]\n",
    "\n",
    "for i in animales:\n",
    "    if len(i) >= 5:\n",
    "        print(i)"
   ]
  },
  {
   "cell_type": "code",
   "execution_count": null,
   "id": "3268a582",
   "metadata": {},
   "outputs": [],
   "source": [
    "# Dada una lista de precios, imprime solo los que sean menores de 50\n",
    "precios = [19.99, 45.50, 12.30, 99.99, 5.99, 75.25, 29.95, 49.99, 10.00, 59.60]\n",
    "for i in precios:\n",
    "    if i <= 50:\n",
    "        print(i)"
   ]
  },
  {
   "cell_type": "code",
   "execution_count": null,
   "id": "e8cb8f58",
   "metadata": {},
   "outputs": [],
   "source": [
    "# Crea una lista de notras (números) y dile al usuario si ha aprobado cada una\n",
    "notas = [19.99, 45.50, 12.30, 99.99, 5.99, 75.25, 29.95, 49.99, 10.00, 59.60]\n",
    "for i in notas:\n",
    "    if i > 60:\n",
    "        print(f\"Pasate con {i}\")"
   ]
  },
  {
   "cell_type": "code",
   "execution_count": null,
   "id": "a0cbf3b8",
   "metadata": {},
   "outputs": [],
   "source": [
    "# Pide al usuario 5 nombres y guárdalos en una lista, luego imprímelos\n",
    "nombres = []\n",
    "for i in range(5):\n",
    "    nombre = input(\"Dame un nombre: \")\n",
    "    nombres.append(nombre)\n",
    "\n",
    "for i in nombres:\n",
    "    print(f\"Los nombres son: {i}\")"
   ]
  },
  {
   "cell_type": "code",
   "execution_count": null,
   "id": "aab0a3f8",
   "metadata": {},
   "outputs": [],
   "source": [
    "# Usa un for para imprimir cada carácter de un string\n",
    "string = \"Edgar\"\n",
    "for i in string:\n",
    "    print(i)"
   ]
  },
  {
   "cell_type": "code",
   "execution_count": null,
   "id": "496a4521",
   "metadata": {},
   "outputs": [],
   "source": [
    "# Imprime los elementos de una lista sin usar un bucle for (usa while)\n",
    "animales_exoticos = [\n",
    "    \"Quetzal\",\n",
    "    \"Ornitorrinco\",\n",
    "    \"Okapi\",\n",
    "    \"Narval\",\n",
    "    \"Pangolín\",\n",
    "    \"Aye-aye\",\n",
    "    \"Dragón de Komodo\",\n",
    "    \"Tarsero\",\n",
    "    \"Caracal\",\n",
    "    \"Fosa\"\n",
    "]\n",
    "\n",
    "count = 0\n",
    "while count < len(animales_exoticos):\n",
    "    print(animales_exoticos[count])\n",
    "    count += 1\n"
   ]
  },
  {
   "cell_type": "code",
   "execution_count": null,
   "id": "b21e26a0",
   "metadata": {},
   "outputs": [],
   "source": [
    "# Combina dos listas de nombres e imprime cada par (usa zip())\n",
    "nombres = [\"Edgar\", \"Deyanira\", \"Maya\"]\n",
    "apellidos = [\"Gonzalez\", \"de la Peña\", \"Gonzalez de la  Peña\"]\n",
    "nombres_completos = list(zip(nombres,apellidos))\n",
    "print(nombres_completos)"
   ]
  },
  {
   "cell_type": "code",
   "execution_count": null,
   "id": "922c5f56",
   "metadata": {},
   "outputs": [],
   "source": [
    "# Esccribe un bucle que imprima cuántas vocales tiene cada palabra en una lista\n",
    "palabras = [\"hola\", \"python\", \"programación\", \"aeiou\"]\n",
    "for i in palabras:\n",
    "    count = 0\n",
    "    for x in i:\n",
    "        if x in \"aeiou\":\n",
    "            count += 1\n",
    "    print(f\"La palabra {i} tiene {count} vocales\")"
   ]
  },
  {
   "cell_type": "code",
   "execution_count": null,
   "id": "a5fe92e0",
   "metadata": {},
   "outputs": [],
   "source": []
  }
 ],
 "metadata": {
  "kernelspec": {
   "display_name": "devs3-8",
   "language": "python",
   "name": "python3"
  },
  "language_info": {
   "codemirror_mode": {
    "name": "ipython",
    "version": 3
   },
   "file_extension": ".py",
   "mimetype": "text/x-python",
   "name": "python",
   "nbconvert_exporter": "python",
   "pygments_lexer": "ipython3",
   "version": "3.8.20"
  }
 },
 "nbformat": 4,
 "nbformat_minor": 5
}
