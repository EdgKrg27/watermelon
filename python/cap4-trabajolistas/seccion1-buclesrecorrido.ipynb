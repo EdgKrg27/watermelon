{
 "cells": [
  {
   "cell_type": "code",
   "execution_count": 1,
   "id": "772fa424",
   "metadata": {},
   "outputs": [],
   "source": [
    "# Imprime cada elemento de la lista frutas = manzana, banana, naranja"
   ]
  },
  {
   "cell_type": "code",
   "execution_count": 2,
   "id": "133eb8c9",
   "metadata": {},
   "outputs": [],
   "source": [
    "# Crea una lista con 5 países y usa un for para imprimirlos en mayúsculas"
   ]
  },
  {
   "cell_type": "code",
   "execution_count": 3,
   "id": "60e45453",
   "metadata": {},
   "outputs": [],
   "source": [
    "# Usa un for para imprimir los número del 1 al 10"
   ]
  },
  {
   "cell_type": "code",
   "execution_count": 4,
   "id": "08d6235d",
   "metadata": {},
   "outputs": [],
   "source": [
    "# Dada una lista de temperaturas, imprime solo las que sean mayores a 30"
   ]
  },
  {
   "cell_type": "code",
   "execution_count": 5,
   "id": "623a1b54",
   "metadata": {},
   "outputs": [],
   "source": [
    "# Imprime un mensaje personalizado para cada nombre en la lista nombres"
   ]
  },
  {
   "cell_type": "code",
   "execution_count": 6,
   "id": "925f8c86",
   "metadata": {},
   "outputs": [],
   "source": [
    "# Crea una lista con tus tres comidas favoritas e imprime una frase por cada una"
   ]
  },
  {
   "cell_type": "code",
   "execution_count": 7,
   "id": "69d3517c",
   "metadata": {},
   "outputs": [],
   "source": [
    "# Haz un bucle que imprima el cuadrado de cada número del 1 al 10"
   ]
  },
  {
   "cell_type": "code",
   "execution_count": null,
   "id": "24946d59",
   "metadata": {},
   "outputs": [],
   "source": [
    "# Imrime cuántas letras tiene cada palabra en una lista "
   ]
  },
  {
   "cell_type": "code",
   "execution_count": 9,
   "id": "4bed3ffe",
   "metadata": {},
   "outputs": [],
   "source": [
    "# Imprime los elementos de una lista de animales en orden inverso"
   ]
  },
  {
   "cell_type": "code",
   "execution_count": 10,
   "id": "50944108",
   "metadata": {},
   "outputs": [],
   "source": [
    "# Imprime los números impares del 1 al 20 usando un bucle for"
   ]
  },
  {
   "cell_type": "code",
   "execution_count": 11,
   "id": "1b1fb67e",
   "metadata": {},
   "outputs": [],
   "source": [
    "# Recorre una lista de 10 números y calcula su suma manualmente (sin sum())"
   ]
  },
  {
   "cell_type": "code",
   "execution_count": 12,
   "id": "ec76fb11",
   "metadata": {},
   "outputs": [],
   "source": [
    "# Imprime las posiciones de cada elemento con enumerate()"
   ]
  },
  {
   "cell_type": "code",
   "execution_count": 13,
   "id": "4bce45a1",
   "metadata": {},
   "outputs": [],
   "source": [
    "# Dada una lista de strings, imprime los que tengan más de 5 caracteres"
   ]
  },
  {
   "cell_type": "code",
   "execution_count": 14,
   "id": "3268a582",
   "metadata": {},
   "outputs": [],
   "source": [
    "# Dada una lista de precios, imprime solo los que sean menores de 100"
   ]
  },
  {
   "cell_type": "code",
   "execution_count": 15,
   "id": "e8cb8f58",
   "metadata": {},
   "outputs": [],
   "source": [
    "# Crea una lista de notras (números) y dile al usuario si ha aprobado cada una"
   ]
  },
  {
   "cell_type": "code",
   "execution_count": 16,
   "id": "a0cbf3b8",
   "metadata": {},
   "outputs": [],
   "source": [
    "# Pide al usuario 5 nombres y guárdalos en una lista, luego imprímelos"
   ]
  },
  {
   "cell_type": "code",
   "execution_count": 17,
   "id": "aab0a3f8",
   "metadata": {},
   "outputs": [],
   "source": [
    "# Usa un for para imprimir cada carácter de un string"
   ]
  },
  {
   "cell_type": "code",
   "execution_count": 18,
   "id": "496a4521",
   "metadata": {},
   "outputs": [],
   "source": [
    "# Imprime los elementos de una lista sin usar un bucle for (usa while)"
   ]
  },
  {
   "cell_type": "code",
   "execution_count": 19,
   "id": "b21e26a0",
   "metadata": {},
   "outputs": [],
   "source": [
    "# Combina dos listas de nombres e imprime cada par (usa zip())"
   ]
  },
  {
   "cell_type": "code",
   "execution_count": null,
   "id": "922c5f56",
   "metadata": {},
   "outputs": [],
   "source": [
    "# Esccribe un bucle que imprima cuántas vocales tiene cada palabra en una lista"
   ]
  }
 ],
 "metadata": {
  "kernelspec": {
   "display_name": "devs3-8",
   "language": "python",
   "name": "python3"
  },
  "language_info": {
   "codemirror_mode": {
    "name": "ipython",
    "version": 3
   },
   "file_extension": ".py",
   "mimetype": "text/x-python",
   "name": "python",
   "nbconvert_exporter": "python",
   "pygments_lexer": "ipython3",
   "version": "3.8.20"
  }
 },
 "nbformat": 4,
 "nbformat_minor": 5
}
