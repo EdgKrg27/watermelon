{
 "cells": [
  {
   "cell_type": "code",
   "execution_count": 1,
   "id": "72e4e998",
   "metadata": {},
   "outputs": [],
   "source": [
    "# Escribe una lista de 10 números aleatorios y encuentra el mayor y menor"
   ]
  },
  {
   "cell_type": "code",
   "execution_count": 2,
   "id": "2efafb00",
   "metadata": {},
   "outputs": [],
   "source": [
    "# Crea una lista de palabras y muestra solo las que tienen más de 5 letras"
   ]
  },
  {
   "cell_type": "code",
   "execution_count": 3,
   "id": "76a28f8d",
   "metadata": {},
   "outputs": [],
   "source": [
    "# Filtra una lista de nombres para mostrar solo los que comienzen con \"A\""
   ]
  },
  {
   "cell_type": "code",
   "execution_count": 4,
   "id": "2a87b6c7",
   "metadata": {},
   "outputs": [],
   "source": [
    "# Crea una lista de diccionarios simples (nombre y edad) yu recórrela"
   ]
  },
  {
   "cell_type": "code",
   "execution_count": null,
   "id": "56048a35",
   "metadata": {},
   "outputs": [],
   "source": [
    "# Crea un menú de restaurante como lista y permite al usuario elegir un plato"
   ]
  },
  {
   "cell_type": "code",
   "execution_count": 6,
   "id": "862ba990",
   "metadata": {},
   "outputs": [],
   "source": [
    "# Usa una lista e input() para crear una lista de compras ingresada por el usuario"
   ]
  },
  {
   "cell_type": "code",
   "execution_count": 7,
   "id": "980f9c3b",
   "metadata": {},
   "outputs": [],
   "source": [
    "# Simula una cola de atención usando una lista (agrega con append()), atiende con pop(0)"
   ]
  },
  {
   "cell_type": "code",
   "execution_count": 8,
   "id": "c0019e80",
   "metadata": {},
   "outputs": [],
   "source": [
    "# Copia una lista con [;], modifica una y muestra que la otra no cambia"
   ]
  },
  {
   "cell_type": "code",
   "execution_count": 9,
   "id": "5c680202",
   "metadata": {},
   "outputs": [],
   "source": [
    "# Haz una lista de listas (matriz simple) y recórrela con doble for"
   ]
  },
  {
   "cell_type": "code",
   "execution_count": 10,
   "id": "217b9978",
   "metadata": {},
   "outputs": [],
   "source": [
    "# Escribe una función que reciba una lista y devuelva otra con los elementos únicos"
   ]
  },
  {
   "cell_type": "code",
   "execution_count": null,
   "id": "ef5fb7fb",
   "metadata": {},
   "outputs": [],
   "source": [
    "# Imprime las tablas de multiplicar en forma de matriz"
   ]
  },
  {
   "cell_type": "markdown",
   "id": "e9000d7f",
   "metadata": {},
   "source": []
  }
 ],
 "metadata": {
  "kernelspec": {
   "display_name": "devs3-8",
   "language": "python",
   "name": "python3"
  },
  "language_info": {
   "codemirror_mode": {
    "name": "ipython",
    "version": 3
   },
   "file_extension": ".py",
   "mimetype": "text/x-python",
   "name": "python",
   "nbconvert_exporter": "python",
   "pygments_lexer": "ipython3",
   "version": "3.8.20"
  }
 },
 "nbformat": 4,
 "nbformat_minor": 5
}
