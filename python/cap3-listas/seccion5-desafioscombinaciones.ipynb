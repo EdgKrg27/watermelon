{
 "cells": [
  {
   "cell_type": "code",
   "execution_count": 9,
   "id": "72e4e998",
   "metadata": {},
   "outputs": [
    {
     "name": "stdout",
     "output_type": "stream",
     "text": [
      "Menor: 3279, Maximo: 97197\n"
     ]
    }
   ],
   "source": [
    "# Escribe una lista de 10 números aleatorios y encuentra el mayor y menor\n",
    "numeros = [83811, 14593, 3279, 97197, 36049, 32099, 29257, 18290, 96531, 13435, 88697, 97081, 71483, 11396, 77398, 55303, 4166, 3906, 12281, 28658]\n",
    "\n",
    "print(f\"Menor: {min(numeros)}, Maximo: {max(numeros)}\")"
   ]
  },
  {
   "cell_type": "code",
   "execution_count": null,
   "id": "0990fdd9",
   "metadata": {},
   "outputs": [],
   "source": []
  },
  {
   "cell_type": "code",
   "execution_count": 12,
   "id": "2efafb00",
   "metadata": {},
   "outputs": [
    {
     "name": "stdout",
     "output_type": "stream",
     "text": [
      "Carlos\n"
     ]
    }
   ],
   "source": [
    "# Crea una lista de palabras y muestra solo las que tienen más de 5 letras\n",
    "nombres = [\"Ana\", \"Carlos\", \"María\", \"Jorge\", \"Lucía\"]\n",
    "for i in nombres:\n",
    "    if len(i)>5:\n",
    "        print(i)"
   ]
  },
  {
   "cell_type": "code",
   "execution_count": 14,
   "id": "76a28f8d",
   "metadata": {},
   "outputs": [
    {
     "name": "stdout",
     "output_type": "stream",
     "text": [
      "Ana\n"
     ]
    }
   ],
   "source": [
    "# Filtra una lista de nombres para mostrar solo los que comienzen con \"A\"\n",
    "nombres = [\"Ana\", \"Carlos\", \"María\", \"Jorge\", \"Lucía\"]\n",
    "for i in nombres:\n",
    "    if i.startswith(\"A\"):\n",
    "        print(i)"
   ]
  },
  {
   "cell_type": "code",
   "execution_count": 20,
   "id": "2a87b6c7",
   "metadata": {},
   "outputs": [
    {
     "name": "stdout",
     "output_type": "stream",
     "text": [
      "{'nombre': 'Ana', 'edad': 25, 'ciudad': 'Madrid'}\n",
      "{'nombre': 'Carlos', 'edad': 32, 'ciudad': 'Barcelona'}\n",
      "{'nombre': 'María', 'edad': 19, 'ciudad': 'Valencia'}\n",
      "{'nombre': 'Jorge', 'edad': 41, 'ciudad': 'Sevilla'}\n"
     ]
    }
   ],
   "source": [
    "# Crea una lista de diccionarios simples (nombre y edad) y recórrela\n",
    "personas = [\n",
    "    {\"nombre\": \"Ana\", \"edad\": 25, \"ciudad\": \"Madrid\"},\n",
    "    {\"nombre\": \"Carlos\", \"edad\": 32, \"ciudad\": \"Barcelona\"},\n",
    "    {\"nombre\": \"María\", \"edad\": 19, \"ciudad\": \"Valencia\"},\n",
    "    {\"nombre\": \"Jorge\", \"edad\": 41, \"ciudad\": \"Sevilla\"}\n",
    "]\n",
    "for x in personas:\n",
    "    print(x)"
   ]
  },
  {
   "cell_type": "code",
   "execution_count": 4,
   "id": "862ba990",
   "metadata": {},
   "outputs": [
    {
     "name": "stdout",
     "output_type": "stream",
     "text": [
      "Dame un elemento:  agua\n",
      "Dame un elemento:  leche\n",
      "Dame un elemento:  cereal\n",
      "Dame un elemento:  huevo\n",
      "Dame un elemento:  salchicha\n",
      "Dame un elemento:  jamon\n",
      "Dame un elemento:  0\n"
     ]
    },
    {
     "name": "stdout",
     "output_type": "stream",
     "text": [
      "['agua', 'leche', 'cereal', 'huevo', 'salchicha', 'jamon']\n"
     ]
    }
   ],
   "source": [
    "# Usa una lista e input() para crear una lista de compras ingresada por el usuario\n",
    "compras = []\n",
    "while True:\n",
    "    dato = input(\"Dame un elemento: \").strip()\n",
    "    if dato == \"0\":\n",
    "        break\n",
    "    else:\n",
    "        compras.append(dato)\n",
    "print(compras)"
   ]
  }
 ],
 "metadata": {
  "kernelspec": {
   "display_name": "devs3-8",
   "language": "python",
   "name": "python3"
  },
  "language_info": {
   "codemirror_mode": {
    "name": "ipython",
    "version": 3
   },
   "file_extension": ".py",
   "mimetype": "text/x-python",
   "name": "python",
   "nbconvert_exporter": "python",
   "pygments_lexer": "ipython3",
   "version": "3.8.20"
  }
 },
 "nbformat": 4,
 "nbformat_minor": 5
}
