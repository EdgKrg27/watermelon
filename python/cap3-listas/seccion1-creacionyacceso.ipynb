{
 "cells": [
  {
   "cell_type": "code",
   "execution_count": null,
   "id": "2cf57d4a",
   "metadata": {},
   "outputs": [],
   "source": [
    "# Crea una lista con 5 frutas y muestra cada una por separado"
   ]
  },
  {
   "cell_type": "code",
   "execution_count": null,
   "id": "0ee6805a",
   "metadata": {},
   "outputs": [],
   "source": [
    "# Imprime el primer, segundo y último elemento de una lista de nombres"
   ]
  },
  {
   "cell_type": "code",
   "execution_count": 4,
   "id": "ca681873",
   "metadata": {},
   "outputs": [],
   "source": [
    "#Crea una lista con tus ciudades favoritas y accede a la tercera ciudad"
   ]
  },
  {
   "cell_type": "code",
   "execution_count": 5,
   "id": "33c9d5fe",
   "metadata": {},
   "outputs": [],
   "source": [
    "# Usa title() poara imprimir cada nombre de una lista con formato adecuado"
   ]
  },
  {
   "cell_type": "code",
   "execution_count": null,
   "id": "6d3949c0",
   "metadata": {},
   "outputs": [],
   "source": [
    "# Crea una lista de animales y muestra un mensaje personalizado con cada uno"
   ]
  },
  {
   "cell_type": "code",
   "execution_count": 7,
   "id": "4fa9f1eb",
   "metadata": {},
   "outputs": [],
   "source": [
    "# Almacena 5 peliculas favoritas y muestra un mensaje personalizado con cada uno"
   ]
  },
  {
   "cell_type": "code",
   "execution_count": 8,
   "id": "02361132",
   "metadata": {},
   "outputs": [],
   "source": [
    "# Almacena 5 peliculas favorita sy muestra solo las tres primeras"
   ]
  },
  {
   "cell_type": "code",
   "execution_count": 9,
   "id": "adbe44a6",
   "metadata": {},
   "outputs": [],
   "source": [
    "# Crea una lista de comidas favoritas e imprime solo la última usando índice negativo"
   ]
  },
  {
   "cell_type": "code",
   "execution_count": 10,
   "id": "e88c9709",
   "metadata": {},
   "outputs": [],
   "source": [
    "# Crea una lista vacía y agrégale 3 elementos usando append()"
   ]
  },
  {
   "cell_type": "code",
   "execution_count": 11,
   "id": "80cfc4bf",
   "metadata": {},
   "outputs": [],
   "source": [
    "# Accede a un elemento fuera de rango y observa el error"
   ]
  },
  {
   "cell_type": "code",
   "execution_count": 12,
   "id": "4adfa9cf",
   "metadata": {},
   "outputs": [],
   "source": [
    "# Usa una variable para guardar un índice y úsala para acceder a un elemento"
   ]
  }
 ],
 "metadata": {
  "kernelspec": {
   "display_name": "devs3-8",
   "language": "python",
   "name": "python3"
  },
  "language_info": {
   "codemirror_mode": {
    "name": "ipython",
    "version": 3
   },
   "file_extension": ".py",
   "mimetype": "text/x-python",
   "name": "python",
   "nbconvert_exporter": "python",
   "pygments_lexer": "ipython3",
   "version": "3.8.20"
  }
 },
 "nbformat": 4,
 "nbformat_minor": 5
}
