{
 "cells": [
  {
   "cell_type": "code",
   "execution_count": null,
   "id": "2cf57d4a",
   "metadata": {},
   "outputs": [],
   "source": [
    "# Crea una lista con 5 frutas y muestra cada una por separado\n",
    "frutas = [\"manzana\", \"pera\", \"sandia\", \"melon\", \"platano\"]\n",
    "print(frutas[0],frutas[1],frutas[2],frutas[3],frutas[4])"
   ]
  },
  {
   "cell_type": "code",
   "execution_count": null,
   "id": "0ee6805a",
   "metadata": {},
   "outputs": [],
   "source": [
    "# Imprime el primer, segundo y último elemento de una lista de nombres\n",
    "nombres = [\"Edgar\", \"Deyanira\", \"Mayis\", \"Navy\" , \"Bonifacio\", \"Nobu\"]\n",
    "print(nombres[0])\n",
    "print(nombres[1])\n",
    "print(nombres[-1])"
   ]
  },
  {
   "cell_type": "code",
   "execution_count": null,
   "id": "ca681873",
   "metadata": {},
   "outputs": [],
   "source": [
    "#Crea una lista con tus ciudades favoritas y accede a la tercera ciudad\n",
    "ciudades = [\"CDMX\", \"Zapopan\", \"Estado de México\"]\n",
    "print(ciudades[2])"
   ]
  },
  {
   "cell_type": "code",
   "execution_count": null,
   "id": "33c9d5fe",
   "metadata": {},
   "outputs": [],
   "source": [
    "# Usa title() para imprimir cada nombre de una lista con formato adecuado\n",
    "nombres = [\"edgar\", \"deyanira\", \"maya\", \"navy\", \"bonifacio\", \"nobu\"]\n",
    "print(nombres[0].title(), nombres[1].title(), nombres[2].title(), nombres[3].title(), nombres[4].title(), nombres[5].title())"
   ]
  },
  {
   "cell_type": "code",
   "execution_count": null,
   "id": "6d3949c0",
   "metadata": {},
   "outputs": [],
   "source": [
    "# Crea una lista de animales y muestra un mensaje personalizado con cada uno\n",
    "animales = [\"perro\", \"gato\", \"burro\"]\n",
    "print(f\"Hola yo soy el {animales[0]}\")\n",
    "print(f\"Hola yo soy el {animales[1]}\")\n",
    "print(f\"Hola yo soy el {animales[2]}\")"
   ]
  },
  {
   "cell_type": "code",
   "execution_count": null,
   "id": "4fa9f1eb",
   "metadata": {},
   "outputs": [],
   "source": [
    "# Almacena 5 peliculas favoritas y muestra un mensaje personalizado con cada uno\n",
    "peliculas = [\"señor de los anillos\", \"batman\",\"la momia\",\"el resplandor\",\"star wars\"]\n",
    "print(f\"Mi pelicual favorita es: {peliculas[0]}\")\n",
    "print(f\"Mi pelicual favorita es: {peliculas[1]}\")\n",
    "print(f\"Mi pelicual favorita es: {peliculas[2]}\")\n",
    "print(f\"Mi pelicual favorita es: {peliculas[3]}\")\n",
    "print(f\"Mi pelicual favorita es: {peliculas[4]}\")"
   ]
  },
  {
   "cell_type": "code",
   "execution_count": null,
   "id": "02361132",
   "metadata": {},
   "outputs": [],
   "source": [
    "# Almacena 5 peliculas favorita sy muestra solo las tres primeras\n",
    "peliculas = [\"señor de los anillos\", \"batman\",\"la momia\",\"el resplandor\",\"star wars\"]\n",
    "print(peliculas[0],peliculas[1],peliculas[2])"
   ]
  },
  {
   "cell_type": "code",
   "execution_count": null,
   "id": "adbe44a6",
   "metadata": {},
   "outputs": [],
   "source": [
    "# Crea una lista de comidas favoritas e imprime solo la última usando índice negativo\n",
    "comidas = [\"albondigas\",\"hot cakes\", \"alambre\", \"picadillo\", \"tinga\"]\n",
    "print(comidas[-1])"
   ]
  },
  {
   "cell_type": "code",
   "execution_count": null,
   "id": "e88c9709",
   "metadata": {},
   "outputs": [],
   "source": [
    "# Crea una lista vacía y agrégale 3 elementos usando append()\n",
    "lista_vacia = []\n",
    "print(lista_vacia)\n",
    "lista_vacia.append(\"elemento uno\")\n",
    "lista_vacia.append(\"elemento dos\")\n",
    "lista_vacia.append(\"elemento tres\")\n",
    "print(lista_vacia)"
   ]
  },
  {
   "cell_type": "code",
   "execution_count": null,
   "id": "80cfc4bf",
   "metadata": {},
   "outputs": [],
   "source": [
    "# Accede a un elemento fuera de rango y observa el error\n",
    "lista_vacia[5]"
   ]
  },
  {
   "cell_type": "code",
   "execution_count": null,
   "id": "4adfa9cf",
   "metadata": {},
   "outputs": [],
   "source": [
    "# Usa una variable para guardar un índice y úsala para acceder a un elemento\n",
    "indice = 2\n",
    "lista_vacia[indice]"
   ]
  }
 ],
 "metadata": {
  "kernelspec": {
   "display_name": "devs3-8",
   "language": "python",
   "name": "python3"
  },
  "language_info": {
   "codemirror_mode": {
    "name": "ipython",
    "version": 3
   },
   "file_extension": ".py",
   "mimetype": "text/x-python",
   "name": "python",
   "nbconvert_exporter": "python",
   "pygments_lexer": "ipython3",
   "version": "3.8.20"
  }
 },
 "nbformat": 4,
 "nbformat_minor": 5
}
