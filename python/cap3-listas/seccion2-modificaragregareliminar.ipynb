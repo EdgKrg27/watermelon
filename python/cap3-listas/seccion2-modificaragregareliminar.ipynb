{
 "cells": [
  {
   "cell_type": "code",
   "execution_count": 1,
   "id": "4b9a11c0",
   "metadata": {},
   "outputs": [],
   "source": [
    "# Modifica un elemento de una lista de colores"
   ]
  },
  {
   "cell_type": "code",
   "execution_count": 2,
   "id": "c36f1b59",
   "metadata": {},
   "outputs": [],
   "source": [
    "# Usa appen() para agregar tres países a una lista"
   ]
  },
  {
   "cell_type": "code",
   "execution_count": 3,
   "id": "06252af0",
   "metadata": {},
   "outputs": [],
   "source": [
    "# Usa insert() para añadir un número al inicio de una lista de enteros"
   ]
  },
  {
   "cell_type": "code",
   "execution_count": 4,
   "id": "2e29d73e",
   "metadata": {},
   "outputs": [],
   "source": [
    "# Elimina un elemento con del e imprime la lista resultante"
   ]
  },
  {
   "cell_type": "code",
   "execution_count": 5,
   "id": "0d87bfa3",
   "metadata": {},
   "outputs": [],
   "source": [
    "# Usa pop() para sacar el último elemento de una lista y gúardalo en una variable"
   ]
  },
  {
   "cell_type": "code",
   "execution_count": 6,
   "id": "98843f38",
   "metadata": {},
   "outputs": [],
   "source": [
    "# Usa pop(0) para eliminar el primer elemento de una lista de tareas"
   ]
  },
  {
   "cell_type": "code",
   "execution_count": 7,
   "id": "4bc52b0c",
   "metadata": {},
   "outputs": [],
   "source": [
    "# Usa remove() para eliminar un elemento, específico de una lista"
   ]
  },
  {
   "cell_type": "code",
   "execution_count": 8,
   "id": "3fb13da6",
   "metadata": {},
   "outputs": [],
   "source": [
    "# Crea una lista de autos, elimina uno y explica porque lo eliminaste en un print()"
   ]
  },
  {
   "cell_type": "code",
   "execution_count": 9,
   "id": "1a8affff",
   "metadata": {},
   "outputs": [],
   "source": [
    "# Intenta eliminar un elemento que está en la lista (maneja el error si puedes)"
   ]
  },
  {
   "cell_type": "code",
   "execution_count": null,
   "id": "928d8e1d",
   "metadata": {},
   "outputs": [],
   "source": [
    "# Crea una lista, vacíala completamente usando varios métodos (del, clear, pop)"
   ]
  }
 ],
 "metadata": {
  "kernelspec": {
   "display_name": "devs3-8",
   "language": "python",
   "name": "python3"
  },
  "language_info": {
   "codemirror_mode": {
    "name": "ipython",
    "version": 3
   },
   "file_extension": ".py",
   "mimetype": "text/x-python",
   "name": "python",
   "nbconvert_exporter": "python",
   "pygments_lexer": "ipython3",
   "version": "3.8.20"
  }
 },
 "nbformat": 4,
 "nbformat_minor": 5
}
