{
 "cells": [
  {
   "cell_type": "code",
   "execution_count": null,
   "id": "4b9a11c0",
   "metadata": {},
   "outputs": [],
   "source": [
    "# Modifica un elemento de una lista de colores\n",
    "colores = [\"rojo\", \"azul\", \"verde\", \"amarillo\"]\n",
    "colores[2] = \"cafe\"\n",
    "print(colores)"
   ]
  },
  {
   "cell_type": "code",
   "execution_count": null,
   "id": "c36f1b59",
   "metadata": {},
   "outputs": [],
   "source": [
    "# Usa appen() para agregar tres países a una lista\n",
    "paises = [\"México\", \"España\", \"Italia\", \"Japon\"]\n",
    "paises.append(\"china\")\n",
    "print(paises)"
   ]
  },
  {
   "cell_type": "code",
   "execution_count": null,
   "id": "06252af0",
   "metadata": {},
   "outputs": [],
   "source": [
    "# Usa insert() para añadir un número al inicio de una lista de enteros\n",
    "enteros = [1,2,3,4,5,6,7,8,9]\n",
    "enteros.insert(0,10)\n",
    "print(enteros)"
   ]
  },
  {
   "cell_type": "code",
   "execution_count": null,
   "id": "2e29d73e",
   "metadata": {},
   "outputs": [],
   "source": [
    "# Elimina un elemento con del e imprime la lista resultante\n",
    "del enteros[5]\n",
    "print(enteros)"
   ]
  },
  {
   "cell_type": "code",
   "execution_count": null,
   "id": "0d87bfa3",
   "metadata": {},
   "outputs": [],
   "source": [
    "# Usa pop() para sacar el último elemento de una lista y gúardalo en una variable\n",
    "paises = [\"México\", \"España\", \"Italia\", \"Japon\"]\n",
    "paises_pop = paises.pop()\n",
    "print(paises)\n",
    "print(paises_pop)"
   ]
  },
  {
   "cell_type": "code",
   "execution_count": null,
   "id": "98843f38",
   "metadata": {},
   "outputs": [],
   "source": [
    "# Usa pop(0) para eliminar el primer elemento de una lista de tareas\n",
    "tareas = [\"barrer\", \"trapear\", \"lavar la ropa\", \"lavar trastes\", \"preparar comida\"]\n",
    "tareas_pop = tareas.pop(0)\n",
    "print(tareas)\n",
    "print(tareas_pop)"
   ]
  },
  {
   "cell_type": "code",
   "execution_count": null,
   "id": "4bc52b0c",
   "metadata": {},
   "outputs": [],
   "source": [
    "# Usa remove() para eliminar un elemento, específico de una lista\n",
    "tareas = [\"barrer\", \"trapear\", \"lavar la ropa\", \"lavar trastes\", \"preparar comida\"]\n",
    "tareas.remove(\"trapear\")\n",
    "print(tareas)"
   ]
  },
  {
   "cell_type": "code",
   "execution_count": null,
   "id": "3fb13da6",
   "metadata": {},
   "outputs": [],
   "source": [
    "# Crea una lista de autos, elimina uno y explica porque lo eliminaste en un print()\n",
    "autos = [\"March\", \"BYD\", \"aveo\", \"lancer\"]\n",
    "carro_feo = autos.pop(\"2\")\n",
    "print(f\"elimine {carro_feo} porque odio este carro\")"
   ]
  },
  {
   "cell_type": "code",
   "execution_count": null,
   "id": "1a8affff",
   "metadata": {},
   "outputs": [],
   "source": [
    "# Intenta eliminar un elemento que está en la lista (maneja el error si puedes)\n",
    "lista = [\"elemento 1\", \"elemento 2\", \"elemento 3\"]\n",
    "lista.remove(\"elemento 2\")\n",
    "print(lista)"
   ]
  },
  {
   "cell_type": "code",
   "execution_count": null,
   "id": "928d8e1d",
   "metadata": {},
   "outputs": [],
   "source": [
    "# Crea una lista, vacíala completamente usando varios métodos (del, clear, pop)\n",
    "lista = [\"213\", \"1234\", \"32434\"]\n",
    "lista.pop(0)\n",
    "del lista[0]\n",
    "print(lista)"
   ]
  },
  {
   "cell_type": "code",
   "execution_count": null,
   "id": "33c4944d",
   "metadata": {},
   "outputs": [],
   "source": []
  }
 ],
 "metadata": {
  "kernelspec": {
   "display_name": "devs3-8",
   "language": "python",
   "name": "python3"
  },
  "language_info": {
   "codemirror_mode": {
    "name": "ipython",
    "version": 3
   },
   "file_extension": ".py",
   "mimetype": "text/x-python",
   "name": "python",
   "nbconvert_exporter": "python",
   "pygments_lexer": "ipython3",
   "version": "3.8.20"
  }
 },
 "nbformat": 4,
 "nbformat_minor": 5
}
