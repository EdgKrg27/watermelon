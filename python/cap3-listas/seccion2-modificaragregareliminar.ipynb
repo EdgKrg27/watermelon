{
 "cells": [
  {
   "cell_type": "code",
   "execution_count": 2,
   "id": "4b9a11c0",
   "metadata": {},
   "outputs": [
    {
     "name": "stdout",
     "output_type": "stream",
     "text": [
      "['rojo', 'azul', 'cafe', 'amarillo']\n"
     ]
    }
   ],
   "source": [
    "# Modifica un elemento de una lista de colores\n",
    "colores = [\"rojo\", \"azul\", \"verde\", \"amarillo\"]\n",
    "colores[2] = \"cafe\"\n",
    "print(colores)"
   ]
  },
  {
   "cell_type": "code",
   "execution_count": 4,
   "id": "c36f1b59",
   "metadata": {},
   "outputs": [
    {
     "name": "stdout",
     "output_type": "stream",
     "text": [
      "['México', 'España', 'Italia', 'Japon', 'china']\n"
     ]
    }
   ],
   "source": [
    "# Usa appen() para agregar tres países a una lista\n",
    "paises = [\"México\", \"España\", \"Italia\", \"Japon\"]\n",
    "paises.append(\"china\")\n",
    "print(paises)"
   ]
  },
  {
   "cell_type": "code",
   "execution_count": 5,
   "id": "06252af0",
   "metadata": {},
   "outputs": [
    {
     "name": "stdout",
     "output_type": "stream",
     "text": [
      "[10, 1, 2, 3, 4, 5, 6, 7, 8, 9]\n"
     ]
    }
   ],
   "source": [
    "# Usa insert() para añadir un número al inicio de una lista de enteros\n",
    "enteros = [1,2,3,4,5,6,7,8,9]\n",
    "enteros.insert(0,10)\n",
    "print(enteros)"
   ]
  },
  {
   "cell_type": "code",
   "execution_count": 6,
   "id": "2e29d73e",
   "metadata": {},
   "outputs": [
    {
     "name": "stdout",
     "output_type": "stream",
     "text": [
      "[10, 1, 2, 3, 4, 6, 7, 8, 9]\n"
     ]
    }
   ],
   "source": [
    "# Elimina un elemento con del e imprime la lista resultante\n",
    "del enteros[5]\n",
    "print(enteros)"
   ]
  },
  {
   "cell_type": "code",
   "execution_count": 1,
   "id": "0d87bfa3",
   "metadata": {},
   "outputs": [
    {
     "name": "stdout",
     "output_type": "stream",
     "text": [
      "['México', 'España', 'Italia']\n",
      "Japon\n"
     ]
    }
   ],
   "source": [
    "# Usa pop() para sacar el último elemento de una lista y gúardalo en una variable\n",
    "paises = [\"México\", \"España\", \"Italia\", \"Japon\"]\n",
    "paises_pop = paises.pop()\n",
    "print(paises)\n",
    "print(paises_pop)"
   ]
  },
  {
   "cell_type": "code",
   "execution_count": 2,
   "id": "98843f38",
   "metadata": {},
   "outputs": [
    {
     "name": "stdout",
     "output_type": "stream",
     "text": [
      "['trapear', 'lavar la ropa', 'lavar trastes', 'preparar comida']\n",
      "barrer\n"
     ]
    }
   ],
   "source": [
    "# Usa pop(0) para eliminar el primer elemento de una lista de tareas\n",
    "tareas = [\"barrer\", \"trapear\", \"lavar la ropa\", \"lavar trastes\", \"preparar comida\"]\n",
    "tareas_pop = tareas.pop(0)\n",
    "print(tareas)\n",
    "print(tareas_pop)"
   ]
  },
  {
   "cell_type": "code",
   "execution_count": 3,
   "id": "4bc52b0c",
   "metadata": {},
   "outputs": [
    {
     "name": "stdout",
     "output_type": "stream",
     "text": [
      "['barrer', 'lavar la ropa', 'lavar trastes', 'preparar comida']\n"
     ]
    }
   ],
   "source": [
    "# Usa remove() para eliminar un elemento, específico de una lista\n",
    "tareas = [\"barrer\", \"trapear\", \"lavar la ropa\", \"lavar trastes\", \"preparar comida\"]\n",
    "tareas.remove(\"trapear\")\n",
    "print(tareas)"
   ]
  },
  {
   "cell_type": "code",
   "execution_count": 6,
   "id": "3fb13da6",
   "metadata": {},
   "outputs": [
    {
     "ename": "TypeError",
     "evalue": "'str' object cannot be interpreted as an integer",
     "output_type": "error",
     "traceback": [
      "\u001b[0;31m---------------------------------------------------------------------------\u001b[0m",
      "\u001b[0;31mTypeError\u001b[0m                                 Traceback (most recent call last)",
      "Cell \u001b[0;32mIn[6], line 3\u001b[0m\n\u001b[1;32m      1\u001b[0m \u001b[38;5;66;03m# Crea una lista de autos, elimina uno y explica porque lo eliminaste en un print()\u001b[39;00m\n\u001b[1;32m      2\u001b[0m autos \u001b[38;5;241m=\u001b[39m [\u001b[38;5;124m\"\u001b[39m\u001b[38;5;124mMarch\u001b[39m\u001b[38;5;124m\"\u001b[39m, \u001b[38;5;124m\"\u001b[39m\u001b[38;5;124mBYD\u001b[39m\u001b[38;5;124m\"\u001b[39m, \u001b[38;5;124m\"\u001b[39m\u001b[38;5;124maveo\u001b[39m\u001b[38;5;124m\"\u001b[39m, \u001b[38;5;124m\"\u001b[39m\u001b[38;5;124mlancer\u001b[39m\u001b[38;5;124m\"\u001b[39m]\n\u001b[0;32m----> 3\u001b[0m carro_feo \u001b[38;5;241m=\u001b[39m \u001b[43mautos\u001b[49m\u001b[38;5;241;43m.\u001b[39;49m\u001b[43mpop\u001b[49m\u001b[43m(\u001b[49m\u001b[38;5;124;43m\"\u001b[39;49m\u001b[38;5;124;43m2\u001b[39;49m\u001b[38;5;124;43m\"\u001b[39;49m\u001b[43m)\u001b[49m\n\u001b[1;32m      4\u001b[0m \u001b[38;5;28mprint\u001b[39m(\u001b[38;5;124mf\u001b[39m\u001b[38;5;124m\"\u001b[39m\u001b[38;5;124melimine \u001b[39m\u001b[38;5;132;01m{\u001b[39;00mcarro_feo\u001b[38;5;132;01m}\u001b[39;00m\u001b[38;5;124m porque odio este carro\u001b[39m\u001b[38;5;124m\"\u001b[39m)\n",
      "\u001b[0;31mTypeError\u001b[0m: 'str' object cannot be interpreted as an integer"
     ]
    }
   ],
   "source": [
    "# Crea una lista de autos, elimina uno y explica porque lo eliminaste en un print()\n",
    "autos = [\"March\", \"BYD\", \"aveo\", \"lancer\"]\n",
    "carro_feo = autos.pop(\"2\")\n",
    "print(f\"elimine {carro_feo} porque odio este carro\")"
   ]
  },
  {
   "cell_type": "code",
   "execution_count": 3,
   "id": "1a8affff",
   "metadata": {},
   "outputs": [
    {
     "name": "stdout",
     "output_type": "stream",
     "text": [
      "['elemento 1', 'elemento 3']\n"
     ]
    }
   ],
   "source": [
    "# Intenta eliminar un elemento que está en la lista (maneja el error si puedes)\n",
    "lista = [\"elemento 1\", \"elemento 2\", \"elemento 3\"]\n",
    "lista.remove(\"elemento 2\")\n",
    "print(lista)"
   ]
  },
  {
   "cell_type": "code",
   "execution_count": 7,
   "id": "928d8e1d",
   "metadata": {},
   "outputs": [
    {
     "name": "stdout",
     "output_type": "stream",
     "text": [
      "['32434']\n"
     ]
    }
   ],
   "source": [
    "# Crea una lista, vacíala completamente usando varios métodos (del, clear, pop)\n",
    "lista = [\"213\", \"1234\", \"32434\"]\n",
    "lista.pop(0)\n",
    "del lista[0]\n",
    "print(lista)"
   ]
  },
  {
   "cell_type": "code",
   "execution_count": null,
   "id": "33c4944d",
   "metadata": {},
   "outputs": [],
   "source": []
  }
 ],
 "metadata": {
  "kernelspec": {
   "display_name": "devs3-8",
   "language": "python",
   "name": "python3"
  },
  "language_info": {
   "codemirror_mode": {
    "name": "ipython",
    "version": 3
   },
   "file_extension": ".py",
   "mimetype": "text/x-python",
   "name": "python",
   "nbconvert_exporter": "python",
   "pygments_lexer": "ipython3",
   "version": "3.8.20"
  }
 },
 "nbformat": 4,
 "nbformat_minor": 5
}
