{
 "cells": [
  {
   "cell_type": "code",
   "execution_count": null,
   "id": "6be57205",
   "metadata": {},
   "outputs": [],
   "source": [
    "# Ordena una lista de nombres alfabeticamente con sort()\n",
    "nombres = [\"edgar\", \"deyanira\", \"maya\", \"navy\", \"bonifacio\", \"nobu\", \"bebe\"]\n",
    "nombres.sort()\n",
    "print(nombres)"
   ]
  },
  {
   "cell_type": "code",
   "execution_count": null,
   "id": "8defc6e9",
   "metadata": {},
   "outputs": [],
   "source": [
    "# Ordena una lista de números de forma descendente con sort(reverse=True)\n",
    "nombres = [\"edgar\", \"deyanira\", \"maya\", \"navy\", \"bonifacio\", \"nobu\", \"bebe\"]\n",
    "nombres.sort(reverse=True)\n",
    "print(nombres)"
   ]
  },
  {
   "cell_type": "code",
   "execution_count": null,
   "id": "4cd90eff",
   "metadata": {},
   "outputs": [],
   "source": [
    "# Usa sorted() para mostrar una lista ordenada sin modificar la original\n",
    "nombres = [\"edgar\", \"deyanira\", \"maya\", \"navy\", \"bonifacio\", \"nobu\", \"bebe\"]\n",
    "print(sorted(nombres))\n",
    "print(nombres)"
   ]
  },
  {
   "cell_type": "code",
   "execution_count": null,
   "id": "227f647b",
   "metadata": {},
   "outputs": [],
   "source": [
    "# Crea una lista desordenada, imprímela antes y después de usar sort()\n",
    "numeros = [3,6,4,8,0,1,2,4,8,3,44,765,345,75,6987,63,423,4545,676,8789,3,42,34243,66,789,8764,3534,5]\n",
    "print(numeros)\n",
    "numeros.sort()\n",
    "print(numeros)"
   ]
  },
  {
   "cell_type": "code",
   "execution_count": null,
   "id": "8c8cde06",
   "metadata": {},
   "outputs": [],
   "source": [
    "# Muestra una lista al revés con reverse()\n",
    "numeros = [3,6,4,8,3,44,765,345,75,6987,63,423,4545,676,8789,3,42,34243,66,789,8764,3534,5]\n",
    "numeros.reverse()\n",
    "print(numeros)"
   ]
  },
  {
   "cell_type": "code",
   "execution_count": null,
   "id": "5cfc67d5",
   "metadata": {},
   "outputs": [],
   "source": [
    "# Encuentra la longiotud de una lista con len()\n",
    "numeros = [3,6,4,8,3,44,765,345,75,6987,63,423,4545,676,8789,3,42,34243,66,789,8764,3534,5]\n",
    "len(numeros)"
   ]
  },
  {
   "cell_type": "code",
   "execution_count": null,
   "id": "d9422d3a",
   "metadata": {},
   "outputs": [],
   "source": [
    "# Muestra una lista de números y luego la lista ordenada inversamente\n",
    "numeros = [3,6,4,8,3,44,765,345,75,6987,63,423,4545,676,8789,3,42,34243,66,789,8764,3534,5]\n",
    "print(f\"lista inciail:\\n{numeros}\")\n",
    "numeros.sort()\n",
    "numeros.reverse()\n",
    "print(f\"lista final:\\n{numeros}\")"
   ]
  },
  {
   "cell_type": "code",
   "execution_count": null,
   "id": "44dc912e",
   "metadata": {},
   "outputs": [],
   "source": [
    "# Ordena una lista de palabras por longitud con sorted()\n",
    "palabras = [\"empezar\",\"sentir\",\"pagar\",\"bueno\",\"ojo\",\"grande\",\"grande\",\"continuar\",\"viejo\",\"último\",\"libro\",\"conocer\",\"mujer\",\"poner\",\"lugar\",\"alto\",\"niño\",\"girar\",\"correr\",\"traer\"]\n",
    "palabras_ordenadas = sorted(palabras, key=len)\n",
    "print(palabras_ordenadas)"
   ]
  },
  {
   "cell_type": "code",
   "execution_count": null,
   "id": "850be377",
   "metadata": {},
   "outputs": [],
   "source": [
    "# Muestra el primer y último elemento de una lista ordenada\n",
    "print(palabras_ordenadas[0])\n",
    "print(palabras_ordenadas[-1])"
   ]
  },
  {
   "cell_type": "code",
   "execution_count": null,
   "id": "a73383c3",
   "metadata": {},
   "outputs": [],
   "source": [
    "# Ordena una lista de strings que tiene mayúsculas u minúsculas (observa el orden)\n",
    "palabras = [\"empezar\",\"sentir\",\"pagar\",\"bueno\",\"ojo\",\"grande\",\"grande\",\"continuar\",\"Viejo\",\"Ultimo\",\"libro\",\"conocer\",\"mujer\",\"poner\",\"Lugar\",\"alto\",\"Niño\",\"girar\",\"correr\",\"Traer\"]\n",
    "palabras.sort()\n",
    "print(palabras)"
   ]
  }
 ],
 "metadata": {
  "kernelspec": {
   "display_name": "devs3-8",
   "language": "python",
   "name": "python3"
  },
  "language_info": {
   "codemirror_mode": {
    "name": "ipython",
    "version": 3
   },
   "file_extension": ".py",
   "mimetype": "text/x-python",
   "name": "python",
   "nbconvert_exporter": "python",
   "pygments_lexer": "ipython3",
   "version": "3.8.20"
  }
 },
 "nbformat": 4,
 "nbformat_minor": 5
}
