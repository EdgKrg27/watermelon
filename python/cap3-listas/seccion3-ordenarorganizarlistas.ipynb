{
 "cells": [
  {
   "cell_type": "code",
   "execution_count": 2,
   "id": "6be57205",
   "metadata": {},
   "outputs": [
    {
     "name": "stdout",
     "output_type": "stream",
     "text": [
      "['bebe', 'bonifacio', 'deyanira', 'edgar', 'maya', 'navy', 'nobu']\n"
     ]
    }
   ],
   "source": [
    "# Ordena una lista de nombres alfabeticamente con sort()\n",
    "nombres = [\"edgar\", \"deyanira\", \"maya\", \"navy\", \"bonifacio\", \"nobu\", \"bebe\"]\n",
    "nombres.sort()\n",
    "print(nombres)"
   ]
  },
  {
   "cell_type": "code",
   "execution_count": 3,
   "id": "8defc6e9",
   "metadata": {},
   "outputs": [
    {
     "name": "stdout",
     "output_type": "stream",
     "text": [
      "['nobu', 'navy', 'maya', 'edgar', 'deyanira', 'bonifacio', 'bebe']\n"
     ]
    }
   ],
   "source": [
    "# Ordena una lista de números de forma descendente con sort(reverse=True)\n",
    "nombres = [\"edgar\", \"deyanira\", \"maya\", \"navy\", \"bonifacio\", \"nobu\", \"bebe\"]\n",
    "nombres.sort(reverse=True)\n",
    "print(nombres)"
   ]
  },
  {
   "cell_type": "code",
   "execution_count": 2,
   "id": "4cd90eff",
   "metadata": {},
   "outputs": [
    {
     "name": "stdout",
     "output_type": "stream",
     "text": [
      "['bebe', 'bonifacio', 'deyanira', 'edgar', 'maya', 'navy', 'nobu']\n",
      "['edgar', 'deyanira', 'maya', 'navy', 'bonifacio', 'nobu', 'bebe']\n"
     ]
    }
   ],
   "source": [
    "# Usa sorted() para mostrar una lista ordenada sin modificar la original\n",
    "nombres = [\"edgar\", \"deyanira\", \"maya\", \"navy\", \"bonifacio\", \"nobu\", \"bebe\"]\n",
    "print(sorted(nombres))\n",
    "print(nombres)"
   ]
  },
  {
   "cell_type": "code",
   "execution_count": 3,
   "id": "227f647b",
   "metadata": {},
   "outputs": [
    {
     "name": "stdout",
     "output_type": "stream",
     "text": [
      "[3, 6, 4, 8, 0, 1, 2, 4, 8, 3, 44, 765, 345, 75, 6987, 63, 423, 4545, 676, 8789, 3, 42, 34243, 66, 789, 8764, 3534, 5]\n",
      "[0, 1, 2, 3, 3, 3, 4, 4, 5, 6, 8, 8, 42, 44, 63, 66, 75, 345, 423, 676, 765, 789, 3534, 4545, 6987, 8764, 8789, 34243]\n"
     ]
    }
   ],
   "source": [
    "# Crea una lista desordenada, imprímela antes y después de usar sort()\n",
    "numeros = [3,6,4,8,0,1,2,4,8,3,44,765,345,75,6987,63,423,4545,676,8789,3,42,34243,66,789,8764,3534,5]\n",
    "print(numeros)\n",
    "numeros.sort()\n",
    "print(numeros)"
   ]
  },
  {
   "cell_type": "code",
   "execution_count": 4,
   "id": "8c8cde06",
   "metadata": {},
   "outputs": [
    {
     "name": "stdout",
     "output_type": "stream",
     "text": [
      "[5, 3534, 8764, 789, 66, 34243, 42, 3, 8789, 676, 4545, 423, 63, 6987, 75, 345, 765, 44, 3, 8, 4, 6, 3]\n"
     ]
    }
   ],
   "source": [
    "# Muestra una lista al revés con reverse()\n",
    "numeros = [3,6,4,8,3,44,765,345,75,6987,63,423,4545,676,8789,3,42,34243,66,789,8764,3534,5]\n",
    "numeros.reverse()\n",
    "print(numeros)"
   ]
  },
  {
   "cell_type": "code",
   "execution_count": 5,
   "id": "5cfc67d5",
   "metadata": {},
   "outputs": [
    {
     "data": {
      "text/plain": [
       "23"
      ]
     },
     "execution_count": 5,
     "metadata": {},
     "output_type": "execute_result"
    }
   ],
   "source": [
    "# Encuentra la longiotud de una lista con len()\n",
    "numeros = [3,6,4,8,3,44,765,345,75,6987,63,423,4545,676,8789,3,42,34243,66,789,8764,3534,5]\n",
    "len(numeros)"
   ]
  },
  {
   "cell_type": "code",
   "execution_count": 10,
   "id": "d9422d3a",
   "metadata": {},
   "outputs": [
    {
     "name": "stdout",
     "output_type": "stream",
     "text": [
      "lista inciail:\n",
      "[3, 6, 4, 8, 3, 44, 765, 345, 75, 6987, 63, 423, 4545, 676, 8789, 3, 42, 34243, 66, 789, 8764, 3534, 5]\n",
      "lista final:\n",
      "[34243, 8789, 8764, 6987, 4545, 3534, 789, 765, 676, 423, 345, 75, 66, 63, 44, 42, 8, 6, 5, 4, 3, 3, 3]\n"
     ]
    }
   ],
   "source": [
    "# Muestra una lista de números y luego la lista ordenada inversamente\n",
    "numeros = [3,6,4,8,3,44,765,345,75,6987,63,423,4545,676,8789,3,42,34243,66,789,8764,3534,5]\n",
    "print(f\"lista inciail:\\n{numeros}\")\n",
    "numeros.sort()\n",
    "numeros.reverse()\n",
    "print(f\"lista final:\\n{numeros}\")"
   ]
  },
  {
   "cell_type": "code",
   "execution_count": 14,
   "id": "44dc912e",
   "metadata": {},
   "outputs": [
    {
     "name": "stdout",
     "output_type": "stream",
     "text": [
      "['ojo', 'alto', 'niño', 'pagar', 'bueno', 'viejo', 'libro', 'mujer', 'poner', 'lugar', 'girar', 'traer', 'sentir', 'grande', 'grande', 'último', 'correr', 'empezar', 'conocer', 'continuar']\n"
     ]
    }
   ],
   "source": [
    "# Ordena una lista de palabras por longitud con sorted()\n",
    "palabras = [\"empezar\",\"sentir\",\"pagar\",\"bueno\",\"ojo\",\"grande\",\"grande\",\"continuar\",\"viejo\",\"último\",\"libro\",\"conocer\",\"mujer\",\"poner\",\"lugar\",\"alto\",\"niño\",\"girar\",\"correr\",\"traer\"]\n",
    "palabras_ordenadas = sorted(palabras, key=len)\n",
    "print(palabras_ordenadas)"
   ]
  },
  {
   "cell_type": "code",
   "execution_count": 15,
   "id": "850be377",
   "metadata": {},
   "outputs": [
    {
     "name": "stdout",
     "output_type": "stream",
     "text": [
      "ojo\n",
      "continuar\n"
     ]
    }
   ],
   "source": [
    "# Muestra el primer y último elemento de una lista ordenada\n",
    "print(palabras_ordenadas[0])\n",
    "print(palabras_ordenadas[-1])"
   ]
  },
  {
   "cell_type": "code",
   "execution_count": 16,
   "id": "a73383c3",
   "metadata": {},
   "outputs": [
    {
     "name": "stdout",
     "output_type": "stream",
     "text": [
      "['Lugar', 'Niño', 'Traer', 'Ultimo', 'Viejo', 'alto', 'bueno', 'conocer', 'continuar', 'correr', 'empezar', 'girar', 'grande', 'grande', 'libro', 'mujer', 'ojo', 'pagar', 'poner', 'sentir']\n"
     ]
    }
   ],
   "source": [
    "# Ordena una lista de strings que tiene mayúsculas u minúsculas (observa el orden)\n",
    "palabras = [\"empezar\",\"sentir\",\"pagar\",\"bueno\",\"ojo\",\"grande\",\"grande\",\"continuar\",\"Viejo\",\"Ultimo\",\"libro\",\"conocer\",\"mujer\",\"poner\",\"Lugar\",\"alto\",\"Niño\",\"girar\",\"correr\",\"Traer\"]\n",
    "palabras.sort()\n",
    "print(palabras)"
   ]
  }
 ],
 "metadata": {
  "kernelspec": {
   "display_name": "devs3-8",
   "language": "python",
   "name": "python3"
  },
  "language_info": {
   "codemirror_mode": {
    "name": "ipython",
    "version": 3
   },
   "file_extension": ".py",
   "mimetype": "text/x-python",
   "name": "python",
   "nbconvert_exporter": "python",
   "pygments_lexer": "ipython3",
   "version": "3.8.20"
  }
 },
 "nbformat": 4,
 "nbformat_minor": 5
}
