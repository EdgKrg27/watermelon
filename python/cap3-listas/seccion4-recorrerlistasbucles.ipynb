{
 "cells": [
  {
   "cell_type": "code",
   "execution_count": null,
   "id": "e767efe1",
   "metadata": {},
   "outputs": [],
   "source": [
    "# Recorre una lista de amigos y salúdalos uno a uno con un bucle\n",
    "amigos = [\"Danilo\",\"Roa\", \"Jerry\", \"Miguel\", \"Jackson\", \"Ricardo\", \"Sayury\"]\n",
    "for i in amigos:\n",
    "    print(f\"Que pedo {i}\")"
   ]
  },
  {
   "cell_type": "code",
   "execution_count": null,
   "id": "11907f88",
   "metadata": {},
   "outputs": [],
   "source": [
    "# Usa un for para imprimir el doble de cada número en una lista\n",
    "numeros = [1,2,3,4,5,6,7,8,9,10,11,12,13,14,15,16,17,18,19,20]\n",
    "for i in numeros:\n",
    "    print(i*2)"
   ]
  },
  {
   "cell_type": "code",
   "execution_count": null,
   "id": "66e1298f",
   "metadata": {},
   "outputs": [],
   "source": [
    "# Crea una lista de tareas y escribe un bucle qaue las imprima con númeración\n",
    "tareas = [\"barrer\", \"trapear\", \"lavar traster\", \"ordenar\", \"limpiar arena\", \"lavar patio\"]\n",
    "for indice, elementdaso in enumerate(tareas):\n",
    "    print(f\"Indice: {indice}, elemento: {elementdaso}\")"
   ]
  },
  {
   "cell_type": "code",
   "execution_count": null,
   "id": "a14d01e4",
   "metadata": {},
   "outputs": [],
   "source": [
    "# Usa for para convertir cada palabra enuna lista a mayúsculas\n",
    "tareas = [\"barrer\", \"trapear\", \"lavar traster\", \"ordenar\", \"limpiar arena\", \"lavar patio\"]\n",
    "for i in tareas:\n",
    "    print(i.upper())"
   ]
  },
  {
   "cell_type": "code",
   "execution_count": null,
   "id": "45df337a",
   "metadata": {},
   "outputs": [],
   "source": [
    "# Recorre una lista de edades y calcula el promedio (usa sum() y len())\n",
    "edades = [20,21,22,28,30,31,35,38,40,2,0,5]\n",
    "promedio = sum(edades)/len(edades)\n",
    "print(promedio)"
   ]
  },
  {
   "cell_type": "code",
   "execution_count": null,
   "id": "68ba6329",
   "metadata": {},
   "outputs": [],
   "source": [
    "# Haz un bucle para crear una lista de cuadrados de los primeros 10 números\n",
    "for i in range(10):\n",
    "    print(i**2)"
   ]
  },
  {
   "cell_type": "code",
   "execution_count": null,
   "id": "c8dc736b",
   "metadata": {},
   "outputs": [],
   "source": [
    "# Usa range() para crear una lista de números pares del 2 al 20\n",
    "for i in range(0,20,2):\n",
    "    print(i)"
   ]
  },
  {
   "cell_type": "code",
   "execution_count": null,
   "id": "b41491b6",
   "metadata": {},
   "outputs": [],
   "source": [
    "# Usa una lista y un bucle para calcular el factorial de un número\n",
    "factorial = 1\n",
    "for i in range(1,6):\n",
    "    factorial *= i\n",
    "print(factorial)"
   ]
  },
  {
   "cell_type": "code",
   "execution_count": null,
   "id": "2a425728",
   "metadata": {},
   "outputs": [],
   "source": [
    "# Cuenta cuántas veces aparece una letra en una lista de palabras\n",
    "palabras = [\"gato\", \"perro\", \"elefante\", \"tigre\", \"león\"]\n",
    "cont = 0\n",
    "letra = \"t\"\n",
    "for i in palabras:\n",
    "    i = i.lower()\n",
    "    cont += i.count(letra)\n",
    "print(f\"{letra} = {cont}\")"
   ]
  },
  {
   "cell_type": "code",
   "execution_count": null,
   "id": "33448738",
   "metadata": {},
   "outputs": [],
   "source": [
    "# Combina dos listas (nombres y edades) y muestra mensajes personalizados\n",
    "edades = [25, 32, 19, 41, 28]\n",
    "nombres = [\"Ana\", \"Carlos\", \"María\", \"Jorge\", \"Lucía\"]\n",
    "for i in range(len(nombres)):\n",
    "    print(f\"{nombres[i]} tiene {edades[i]}\")"
   ]
  },
  {
   "cell_type": "code",
   "execution_count": null,
   "id": "6d6e3e9d",
   "metadata": {},
   "outputs": [],
   "source": []
  }
 ],
 "metadata": {
  "kernelspec": {
   "display_name": "devs3-8",
   "language": "python",
   "name": "python3"
  },
  "language_info": {
   "codemirror_mode": {
    "name": "ipython",
    "version": 3
   },
   "file_extension": ".py",
   "mimetype": "text/x-python",
   "name": "python",
   "nbconvert_exporter": "python",
   "pygments_lexer": "ipython3",
   "version": "3.8.20"
  }
 },
 "nbformat": 4,
 "nbformat_minor": 5
}
