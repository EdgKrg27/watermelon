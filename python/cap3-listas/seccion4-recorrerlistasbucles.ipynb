{
 "cells": [
  {
   "cell_type": "code",
   "execution_count": 1,
   "id": "e767efe1",
   "metadata": {},
   "outputs": [],
   "source": [
    "# Recorre una lista de amigos y salúdalos uno a uno con un bucle"
   ]
  },
  {
   "cell_type": "code",
   "execution_count": 2,
   "id": "11907f88",
   "metadata": {},
   "outputs": [],
   "source": [
    "# Usa un for para imprimir el doble de cada número en una lista"
   ]
  },
  {
   "cell_type": "code",
   "execution_count": 3,
   "id": "66e1298f",
   "metadata": {},
   "outputs": [],
   "source": [
    "# Crea una lista de tareas y escribe un bucle qaue las imprima con númeración"
   ]
  },
  {
   "cell_type": "code",
   "execution_count": null,
   "id": "a14d01e4",
   "metadata": {},
   "outputs": [],
   "source": [
    "# Usa for para convertir cada palabra enuna lista a mayúsculas"
   ]
  },
  {
   "cell_type": "code",
   "execution_count": 5,
   "id": "45df337a",
   "metadata": {},
   "outputs": [],
   "source": [
    "# Recorre una lista de edades y calcula el promedio (usa sum() y len())"
   ]
  },
  {
   "cell_type": "code",
   "execution_count": 6,
   "id": "68ba6329",
   "metadata": {},
   "outputs": [],
   "source": [
    "# Haz un bucle para crear una lista de cuadrados de los primeros 10 números"
   ]
  },
  {
   "cell_type": "code",
   "execution_count": 7,
   "id": "c8dc736b",
   "metadata": {},
   "outputs": [],
   "source": [
    "# Usa range() para crear una lista de números pares del 2 al 20"
   ]
  },
  {
   "cell_type": "code",
   "execution_count": 8,
   "id": "b41491b6",
   "metadata": {},
   "outputs": [],
   "source": [
    "# Usa una lista y un bucle para calcular el factorial de un número"
   ]
  },
  {
   "cell_type": "code",
   "execution_count": 9,
   "id": "2a425728",
   "metadata": {},
   "outputs": [],
   "source": [
    "# Cuenta cuántas veces aparece una letra en una lista de palabras"
   ]
  },
  {
   "cell_type": "code",
   "execution_count": null,
   "id": "33448738",
   "metadata": {},
   "outputs": [],
   "source": [
    "# Combina dos listas (nombres y edades) y muestra mensajes personalizados"
   ]
  }
 ],
 "metadata": {
  "kernelspec": {
   "display_name": "devs3-8",
   "language": "python",
   "name": "python3"
  },
  "language_info": {
   "codemirror_mode": {
    "name": "ipython",
    "version": 3
   },
   "file_extension": ".py",
   "mimetype": "text/x-python",
   "name": "python",
   "nbconvert_exporter": "python",
   "pygments_lexer": "ipython3",
   "version": "3.8.20"
  }
 },
 "nbformat": 4,
 "nbformat_minor": 5
}
